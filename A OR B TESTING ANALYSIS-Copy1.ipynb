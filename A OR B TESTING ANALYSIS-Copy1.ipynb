{
 "cells": [
  {
   "cell_type": "code",
   "execution_count": 1,
   "id": "7d92b735",
   "metadata": {
    "execution": {
     "iopub.execute_input": "2023-07-30T21:55:58.888617Z",
     "iopub.status.busy": "2023-07-30T21:55:58.887922Z",
     "iopub.status.idle": "2023-07-30T21:56:00.198180Z",
     "shell.execute_reply": "2023-07-30T21:56:00.197493Z"
    },
    "papermill": {
     "duration": 1.320938,
     "end_time": "2023-07-30T21:56:00.200589",
     "exception": false,
     "start_time": "2023-07-30T21:55:58.879651",
     "status": "completed"
    },
    "tags": []
   },
   "outputs": [
    {
     "name": "stderr",
     "output_type": "stream",
     "text": [
      "/opt/conda/lib/python3.10/site-packages/scipy/__init__.py:146: UserWarning: A NumPy version >=1.16.5 and <1.23.0 is required for this version of SciPy (detected version 1.23.5\n",
      "  warnings.warn(f\"A NumPy version >={np_minversion} and <{np_maxversion}\"\n"
     ]
    }
   ],
   "source": [
    "#Importing all the libraries required to develop our analysis\n",
    "import pandas as pd\n",
    "import numpy as np \n",
    "import matplotlib.pyplot as plt \n",
    "import seaborn as sns\n",
    "from scipy.stats import ttest_ind"
   ]
  },
  {
   "cell_type": "code",
   "execution_count": 2,
   "id": "4da0584b",
   "metadata": {
    "execution": {
     "iopub.execute_input": "2023-07-30T21:56:00.218031Z",
     "iopub.status.busy": "2023-07-30T21:56:00.217464Z",
     "iopub.status.idle": "2023-07-30T21:56:00.817508Z",
     "shell.execute_reply": "2023-07-30T21:56:00.816761Z"
    },
    "papermill": {
     "duration": 0.610164,
     "end_time": "2023-07-30T21:56:00.819487",
     "exception": false,
     "start_time": "2023-07-30T21:56:00.209323",
     "status": "completed"
    },
    "tags": []
   },
   "outputs": [
    {
     "data": {
      "text/html": [
       "<div>\n",
       "<style scoped>\n",
       "    .dataframe tbody tr th:only-of-type {\n",
       "        vertical-align: middle;\n",
       "    }\n",
       "\n",
       "    .dataframe tbody tr th {\n",
       "        vertical-align: top;\n",
       "    }\n",
       "\n",
       "    .dataframe thead th {\n",
       "        text-align: right;\n",
       "    }\n",
       "</style>\n",
       "<table border=\"1\" class=\"dataframe\">\n",
       "  <thead>\n",
       "    <tr style=\"text-align: right;\">\n",
       "      <th></th>\n",
       "      <th>Unnamed: 0</th>\n",
       "      <th>user id</th>\n",
       "      <th>test group</th>\n",
       "      <th>converted</th>\n",
       "      <th>total ads</th>\n",
       "      <th>most ads day</th>\n",
       "      <th>most ads hour</th>\n",
       "    </tr>\n",
       "  </thead>\n",
       "  <tbody>\n",
       "    <tr>\n",
       "      <th>0</th>\n",
       "      <td>0</td>\n",
       "      <td>1069124</td>\n",
       "      <td>ad</td>\n",
       "      <td>False</td>\n",
       "      <td>130</td>\n",
       "      <td>Monday</td>\n",
       "      <td>20</td>\n",
       "    </tr>\n",
       "    <tr>\n",
       "      <th>1</th>\n",
       "      <td>1</td>\n",
       "      <td>1119715</td>\n",
       "      <td>ad</td>\n",
       "      <td>False</td>\n",
       "      <td>93</td>\n",
       "      <td>Tuesday</td>\n",
       "      <td>22</td>\n",
       "    </tr>\n",
       "    <tr>\n",
       "      <th>2</th>\n",
       "      <td>2</td>\n",
       "      <td>1144181</td>\n",
       "      <td>ad</td>\n",
       "      <td>False</td>\n",
       "      <td>21</td>\n",
       "      <td>Tuesday</td>\n",
       "      <td>18</td>\n",
       "    </tr>\n",
       "    <tr>\n",
       "      <th>3</th>\n",
       "      <td>3</td>\n",
       "      <td>1435133</td>\n",
       "      <td>ad</td>\n",
       "      <td>False</td>\n",
       "      <td>355</td>\n",
       "      <td>Tuesday</td>\n",
       "      <td>10</td>\n",
       "    </tr>\n",
       "    <tr>\n",
       "      <th>4</th>\n",
       "      <td>4</td>\n",
       "      <td>1015700</td>\n",
       "      <td>ad</td>\n",
       "      <td>False</td>\n",
       "      <td>276</td>\n",
       "      <td>Friday</td>\n",
       "      <td>14</td>\n",
       "    </tr>\n",
       "  </tbody>\n",
       "</table>\n",
       "</div>"
      ],
      "text/plain": [
       "   Unnamed: 0  user id test group  converted  total ads most ads day  \\\n",
       "0           0  1069124         ad      False        130       Monday   \n",
       "1           1  1119715         ad      False         93      Tuesday   \n",
       "2           2  1144181         ad      False         21      Tuesday   \n",
       "3           3  1435133         ad      False        355      Tuesday   \n",
       "4           4  1015700         ad      False        276       Friday   \n",
       "\n",
       "   most ads hour  \n",
       "0             20  \n",
       "1             22  \n",
       "2             18  \n",
       "3             10  \n",
       "4             14  "
      ]
     },
     "execution_count": 2,
     "metadata": {},
     "output_type": "execute_result"
    }
   ],
   "source": [
    "# Importing the dataset and check the first 5 rows\n",
    "marketing = pd.read_csv('/kaggle/input/marketing-ab-testing/marketing_AB.csv')\n",
    "marketing.head()"
   ]
  },
  {
   "cell_type": "code",
   "execution_count": 3,
   "id": "62604c72",
   "metadata": {
    "execution": {
     "iopub.execute_input": "2023-07-30T21:56:00.836230Z",
     "iopub.status.busy": "2023-07-30T21:56:00.835824Z",
     "iopub.status.idle": "2023-07-30T21:56:00.859136Z",
     "shell.execute_reply": "2023-07-30T21:56:00.857979Z"
    },
    "papermill": {
     "duration": 0.034077,
     "end_time": "2023-07-30T21:56:00.861397",
     "exception": false,
     "start_time": "2023-07-30T21:56:00.827320",
     "status": "completed"
    },
    "tags": []
   },
   "outputs": [],
   "source": [
    "# Column Unammed will be removed because is unnecesary\n",
    "marketing.drop('Unnamed: 0', axis=1, inplace=True)"
   ]
  },
  {
   "cell_type": "code",
   "execution_count": 4,
   "id": "6f736982",
   "metadata": {
    "execution": {
     "iopub.execute_input": "2023-07-30T21:56:00.877158Z",
     "iopub.status.busy": "2023-07-30T21:56:00.876840Z",
     "iopub.status.idle": "2023-07-30T21:56:00.886857Z",
     "shell.execute_reply": "2023-07-30T21:56:00.885870Z"
    },
    "papermill": {
     "duration": 0.019918,
     "end_time": "2023-07-30T21:56:00.888625",
     "exception": false,
     "start_time": "2023-07-30T21:56:00.868707",
     "status": "completed"
    },
    "tags": []
   },
   "outputs": [
    {
     "data": {
      "text/html": [
       "<div>\n",
       "<style scoped>\n",
       "    .dataframe tbody tr th:only-of-type {\n",
       "        vertical-align: middle;\n",
       "    }\n",
       "\n",
       "    .dataframe tbody tr th {\n",
       "        vertical-align: top;\n",
       "    }\n",
       "\n",
       "    .dataframe thead th {\n",
       "        text-align: right;\n",
       "    }\n",
       "</style>\n",
       "<table border=\"1\" class=\"dataframe\">\n",
       "  <thead>\n",
       "    <tr style=\"text-align: right;\">\n",
       "      <th></th>\n",
       "      <th>user id</th>\n",
       "      <th>test group</th>\n",
       "      <th>converted</th>\n",
       "      <th>total ads</th>\n",
       "      <th>most ads day</th>\n",
       "      <th>most ads hour</th>\n",
       "    </tr>\n",
       "  </thead>\n",
       "  <tbody>\n",
       "    <tr>\n",
       "      <th>0</th>\n",
       "      <td>1069124</td>\n",
       "      <td>ad</td>\n",
       "      <td>False</td>\n",
       "      <td>130</td>\n",
       "      <td>Monday</td>\n",
       "      <td>20</td>\n",
       "    </tr>\n",
       "    <tr>\n",
       "      <th>1</th>\n",
       "      <td>1119715</td>\n",
       "      <td>ad</td>\n",
       "      <td>False</td>\n",
       "      <td>93</td>\n",
       "      <td>Tuesday</td>\n",
       "      <td>22</td>\n",
       "    </tr>\n",
       "    <tr>\n",
       "      <th>2</th>\n",
       "      <td>1144181</td>\n",
       "      <td>ad</td>\n",
       "      <td>False</td>\n",
       "      <td>21</td>\n",
       "      <td>Tuesday</td>\n",
       "      <td>18</td>\n",
       "    </tr>\n",
       "    <tr>\n",
       "      <th>3</th>\n",
       "      <td>1435133</td>\n",
       "      <td>ad</td>\n",
       "      <td>False</td>\n",
       "      <td>355</td>\n",
       "      <td>Tuesday</td>\n",
       "      <td>10</td>\n",
       "    </tr>\n",
       "    <tr>\n",
       "      <th>4</th>\n",
       "      <td>1015700</td>\n",
       "      <td>ad</td>\n",
       "      <td>False</td>\n",
       "      <td>276</td>\n",
       "      <td>Friday</td>\n",
       "      <td>14</td>\n",
       "    </tr>\n",
       "  </tbody>\n",
       "</table>\n",
       "</div>"
      ],
      "text/plain": [
       "   user id test group  converted  total ads most ads day  most ads hour\n",
       "0  1069124         ad      False        130       Monday             20\n",
       "1  1119715         ad      False         93      Tuesday             22\n",
       "2  1144181         ad      False         21      Tuesday             18\n",
       "3  1435133         ad      False        355      Tuesday             10\n",
       "4  1015700         ad      False        276       Friday             14"
      ]
     },
     "execution_count": 4,
     "metadata": {},
     "output_type": "execute_result"
    }
   ],
   "source": [
    "#Checking if the action was made successfully\n",
    "marketing.head()"
   ]
  },
  {
   "cell_type": "code",
   "execution_count": 5,
   "id": "f11d7514",
   "metadata": {
    "execution": {
     "iopub.execute_input": "2023-07-30T21:56:00.905252Z",
     "iopub.status.busy": "2023-07-30T21:56:00.904876Z",
     "iopub.status.idle": "2023-07-30T21:56:00.915637Z",
     "shell.execute_reply": "2023-07-30T21:56:00.914747Z"
    },
    "papermill": {
     "duration": 0.021328,
     "end_time": "2023-07-30T21:56:00.917524",
     "exception": false,
     "start_time": "2023-07-30T21:56:00.896196",
     "status": "completed"
    },
    "tags": []
   },
   "outputs": [
    {
     "data": {
      "text/html": [
       "<div>\n",
       "<style scoped>\n",
       "    .dataframe tbody tr th:only-of-type {\n",
       "        vertical-align: middle;\n",
       "    }\n",
       "\n",
       "    .dataframe tbody tr th {\n",
       "        vertical-align: top;\n",
       "    }\n",
       "\n",
       "    .dataframe thead th {\n",
       "        text-align: right;\n",
       "    }\n",
       "</style>\n",
       "<table border=\"1\" class=\"dataframe\">\n",
       "  <thead>\n",
       "    <tr style=\"text-align: right;\">\n",
       "      <th></th>\n",
       "      <th>user_id</th>\n",
       "      <th>test_group</th>\n",
       "      <th>converted</th>\n",
       "      <th>total_ads</th>\n",
       "      <th>most_ads_day</th>\n",
       "      <th>most_ads_hour</th>\n",
       "    </tr>\n",
       "  </thead>\n",
       "  <tbody>\n",
       "    <tr>\n",
       "      <th>0</th>\n",
       "      <td>1069124</td>\n",
       "      <td>ad</td>\n",
       "      <td>False</td>\n",
       "      <td>130</td>\n",
       "      <td>Monday</td>\n",
       "      <td>20</td>\n",
       "    </tr>\n",
       "    <tr>\n",
       "      <th>1</th>\n",
       "      <td>1119715</td>\n",
       "      <td>ad</td>\n",
       "      <td>False</td>\n",
       "      <td>93</td>\n",
       "      <td>Tuesday</td>\n",
       "      <td>22</td>\n",
       "    </tr>\n",
       "    <tr>\n",
       "      <th>2</th>\n",
       "      <td>1144181</td>\n",
       "      <td>ad</td>\n",
       "      <td>False</td>\n",
       "      <td>21</td>\n",
       "      <td>Tuesday</td>\n",
       "      <td>18</td>\n",
       "    </tr>\n",
       "    <tr>\n",
       "      <th>3</th>\n",
       "      <td>1435133</td>\n",
       "      <td>ad</td>\n",
       "      <td>False</td>\n",
       "      <td>355</td>\n",
       "      <td>Tuesday</td>\n",
       "      <td>10</td>\n",
       "    </tr>\n",
       "    <tr>\n",
       "      <th>4</th>\n",
       "      <td>1015700</td>\n",
       "      <td>ad</td>\n",
       "      <td>False</td>\n",
       "      <td>276</td>\n",
       "      <td>Friday</td>\n",
       "      <td>14</td>\n",
       "    </tr>\n",
       "  </tbody>\n",
       "</table>\n",
       "</div>"
      ],
      "text/plain": [
       "   user_id test_group  converted  total_ads most_ads_day  most_ads_hour\n",
       "0  1069124         ad      False        130       Monday             20\n",
       "1  1119715         ad      False         93      Tuesday             22\n",
       "2  1144181         ad      False         21      Tuesday             18\n",
       "3  1435133         ad      False        355      Tuesday             10\n",
       "4  1015700         ad      False        276       Friday             14"
      ]
     },
     "execution_count": 5,
     "metadata": {},
     "output_type": "execute_result"
    }
   ],
   "source": [
    "#To improve the column names, we will replace the spaces with underscores ('_')\n",
    "marketing.rename(columns=lambda x: x.strip().replace (\" \", \"_\"), inplace=True)\n",
    "marketing.head()"
   ]
  },
  {
   "cell_type": "code",
   "execution_count": 6,
   "id": "b7971d19",
   "metadata": {
    "execution": {
     "iopub.execute_input": "2023-07-30T21:56:00.950169Z",
     "iopub.status.busy": "2023-07-30T21:56:00.949817Z",
     "iopub.status.idle": "2023-07-30T21:56:00.955872Z",
     "shell.execute_reply": "2023-07-30T21:56:00.954936Z"
    },
    "papermill": {
     "duration": 0.01732,
     "end_time": "2023-07-30T21:56:00.958214",
     "exception": false,
     "start_time": "2023-07-30T21:56:00.940894",
     "status": "completed"
    },
    "tags": []
   },
   "outputs": [
    {
     "data": {
      "text/plain": [
       "(588101, 6)"
      ]
     },
     "execution_count": 6,
     "metadata": {},
     "output_type": "execute_result"
    }
   ],
   "source": [
    "# Checking the number of rows and columns of this dataset\n",
    "marketing.shape"
   ]
  },
  {
   "cell_type": "code",
   "execution_count": 7,
   "id": "b428dec4",
   "metadata": {
    "execution": {
     "iopub.execute_input": "2023-07-30T21:56:00.976739Z",
     "iopub.status.busy": "2023-07-30T21:56:00.975302Z",
     "iopub.status.idle": "2023-07-30T21:56:01.043862Z",
     "shell.execute_reply": "2023-07-30T21:56:01.042639Z"
    },
    "papermill": {
     "duration": 0.079983,
     "end_time": "2023-07-30T21:56:01.046336",
     "exception": false,
     "start_time": "2023-07-30T21:56:00.966353",
     "status": "completed"
    },
    "tags": []
   },
   "outputs": [
    {
     "data": {
      "text/html": [
       "<div>\n",
       "<style scoped>\n",
       "    .dataframe tbody tr th:only-of-type {\n",
       "        vertical-align: middle;\n",
       "    }\n",
       "\n",
       "    .dataframe tbody tr th {\n",
       "        vertical-align: top;\n",
       "    }\n",
       "\n",
       "    .dataframe thead th {\n",
       "        text-align: right;\n",
       "    }\n",
       "</style>\n",
       "<table border=\"1\" class=\"dataframe\">\n",
       "  <thead>\n",
       "    <tr style=\"text-align: right;\">\n",
       "      <th></th>\n",
       "      <th>user_id</th>\n",
       "      <th>total_ads</th>\n",
       "      <th>most_ads_hour</th>\n",
       "    </tr>\n",
       "  </thead>\n",
       "  <tbody>\n",
       "    <tr>\n",
       "      <th>count</th>\n",
       "      <td>5.881010e+05</td>\n",
       "      <td>588101.000000</td>\n",
       "      <td>588101.000000</td>\n",
       "    </tr>\n",
       "    <tr>\n",
       "      <th>mean</th>\n",
       "      <td>1.310692e+06</td>\n",
       "      <td>24.820876</td>\n",
       "      <td>14.469061</td>\n",
       "    </tr>\n",
       "    <tr>\n",
       "      <th>std</th>\n",
       "      <td>2.022260e+05</td>\n",
       "      <td>43.715181</td>\n",
       "      <td>4.834634</td>\n",
       "    </tr>\n",
       "    <tr>\n",
       "      <th>min</th>\n",
       "      <td>9.000000e+05</td>\n",
       "      <td>1.000000</td>\n",
       "      <td>0.000000</td>\n",
       "    </tr>\n",
       "    <tr>\n",
       "      <th>25%</th>\n",
       "      <td>1.143190e+06</td>\n",
       "      <td>4.000000</td>\n",
       "      <td>11.000000</td>\n",
       "    </tr>\n",
       "    <tr>\n",
       "      <th>50%</th>\n",
       "      <td>1.313725e+06</td>\n",
       "      <td>13.000000</td>\n",
       "      <td>14.000000</td>\n",
       "    </tr>\n",
       "    <tr>\n",
       "      <th>75%</th>\n",
       "      <td>1.484088e+06</td>\n",
       "      <td>27.000000</td>\n",
       "      <td>18.000000</td>\n",
       "    </tr>\n",
       "    <tr>\n",
       "      <th>max</th>\n",
       "      <td>1.654483e+06</td>\n",
       "      <td>2065.000000</td>\n",
       "      <td>23.000000</td>\n",
       "    </tr>\n",
       "  </tbody>\n",
       "</table>\n",
       "</div>"
      ],
      "text/plain": [
       "            user_id      total_ads  most_ads_hour\n",
       "count  5.881010e+05  588101.000000  588101.000000\n",
       "mean   1.310692e+06      24.820876      14.469061\n",
       "std    2.022260e+05      43.715181       4.834634\n",
       "min    9.000000e+05       1.000000       0.000000\n",
       "25%    1.143190e+06       4.000000      11.000000\n",
       "50%    1.313725e+06      13.000000      14.000000\n",
       "75%    1.484088e+06      27.000000      18.000000\n",
       "max    1.654483e+06    2065.000000      23.000000"
      ]
     },
     "execution_count": 7,
     "metadata": {},
     "output_type": "execute_result"
    }
   ],
   "source": [
    "# Getting stastics values from numeric columns\n",
    "marketing.describe()"
   ]
  },
  {
   "cell_type": "code",
   "execution_count": 8,
   "id": "63d0bb4b",
   "metadata": {
    "execution": {
     "iopub.execute_input": "2023-07-30T21:56:01.065630Z",
     "iopub.status.busy": "2023-07-30T21:56:01.064448Z",
     "iopub.status.idle": "2023-07-30T21:56:01.236412Z",
     "shell.execute_reply": "2023-07-30T21:56:01.234125Z"
    },
    "papermill": {
     "duration": 0.184383,
     "end_time": "2023-07-30T21:56:01.239556",
     "exception": false,
     "start_time": "2023-07-30T21:56:01.055173",
     "status": "completed"
    },
    "tags": []
   },
   "outputs": [
    {
     "name": "stdout",
     "output_type": "stream",
     "text": [
      "<class 'pandas.core.frame.DataFrame'>\n",
      "RangeIndex: 588101 entries, 0 to 588100\n",
      "Data columns (total 6 columns):\n",
      " #   Column         Non-Null Count   Dtype \n",
      "---  ------         --------------   ----- \n",
      " 0   user_id        588101 non-null  int64 \n",
      " 1   test_group     588101 non-null  object\n",
      " 2   converted      588101 non-null  bool  \n",
      " 3   total_ads      588101 non-null  int64 \n",
      " 4   most_ads_day   588101 non-null  object\n",
      " 5   most_ads_hour  588101 non-null  int64 \n",
      "dtypes: bool(1), int64(3), object(2)\n",
      "memory usage: 23.0+ MB\n"
     ]
    }
   ],
   "source": [
    "# Checking data type of each column and if there's missing values\n",
    "marketing.info()"
   ]
  },
  {
   "cell_type": "code",
   "execution_count": 9,
   "id": "4d0e5031",
   "metadata": {
    "execution": {
     "iopub.execute_input": "2023-07-30T21:56:01.273617Z",
     "iopub.status.busy": "2023-07-30T21:56:01.273256Z",
     "iopub.status.idle": "2023-07-30T21:56:01.422607Z",
     "shell.execute_reply": "2023-07-30T21:56:01.421393Z"
    },
    "papermill": {
     "duration": 0.161021,
     "end_time": "2023-07-30T21:56:01.424864",
     "exception": false,
     "start_time": "2023-07-30T21:56:01.263843",
     "status": "completed"
    },
    "tags": []
   },
   "outputs": [
    {
     "data": {
      "text/plain": [
       "0"
      ]
     },
     "execution_count": 9,
     "metadata": {},
     "output_type": "execute_result"
    }
   ],
   "source": [
    "#Checking if there's no duplicates\n",
    "marketing.duplicated().sum()"
   ]
  },
  {
   "cell_type": "code",
   "execution_count": 10,
   "id": "f2a01afd",
   "metadata": {
    "execution": {
     "iopub.execute_input": "2023-07-30T21:56:01.458865Z",
     "iopub.status.busy": "2023-07-30T21:56:01.458509Z",
     "iopub.status.idle": "2023-07-30T21:56:01.546410Z",
     "shell.execute_reply": "2023-07-30T21:56:01.545353Z"
    },
    "papermill": {
     "duration": 0.09948,
     "end_time": "2023-07-30T21:56:01.548401",
     "exception": false,
     "start_time": "2023-07-30T21:56:01.448921",
     "status": "completed"
    },
    "tags": []
   },
   "outputs": [
    {
     "name": "stdout",
     "output_type": "stream",
     "text": [
      "test_group\n",
      "ad     564577\n",
      "psa     23524\n",
      "Name: user_id, dtype: int64\n"
     ]
    }
   ],
   "source": [
    "# Number of people by each test group \n",
    "rows_by_tg = marketing.groupby(['test_group'])['user_id'].nunique()\n",
    "print(rows_by_tg)"
   ]
  },
  {
   "cell_type": "markdown",
   "id": "70d31c58",
   "metadata": {
    "papermill": {
     "duration": 0.007673,
     "end_time": "2023-07-30T21:56:01.564298",
     "exception": false,
     "start_time": "2023-07-30T21:56:01.556625",
     "status": "completed"
    },
    "tags": []
   },
   "source": [
    "To remember, the conversion rate represents the percentage of people that we market to who ultimately convert to our product or service. \n",
    "\n",
    "Its formula is: Number of people who converted / Total number of people we marketed to"
   ]
  },
  {
   "cell_type": "code",
   "execution_count": 11,
   "id": "0457f4a3",
   "metadata": {
    "execution": {
     "iopub.execute_input": "2023-07-30T21:56:01.582607Z",
     "iopub.status.busy": "2023-07-30T21:56:01.581588Z",
     "iopub.status.idle": "2023-07-30T21:56:01.794053Z",
     "shell.execute_reply": "2023-07-30T21:56:01.793031Z"
    },
    "papermill": {
     "duration": 0.224066,
     "end_time": "2023-07-30T21:56:01.796490",
     "exception": false,
     "start_time": "2023-07-30T21:56:01.572424",
     "status": "completed"
    },
    "tags": []
   },
   "outputs": [
    {
     "data": {
      "image/png": "[encoded data removed]",
      "text/plain": [
       "<Figure size 640x480 with 1 Axes>"
      ]
     },
     "metadata": {},
     "output_type": "display_data"
    }
   ],
   "source": [
    "# Plotting number of rows by test group \n",
    "rows_by_tg.plot(kind='bar')\n",
    "plt.title('Number of people by Test Group')\n",
    "plt.xlabel('Test Group')\n",
    "plt.ylabel('Number of people')\n",
    "plt.show()"
   ]
  },
  {
   "cell_type": "code",
   "execution_count": 12,
   "id": "6b70eb23",
   "metadata": {
    "execution": {
     "iopub.execute_input": "2023-07-30T21:56:01.815563Z",
     "iopub.status.busy": "2023-07-30T21:56:01.815148Z",
     "iopub.status.idle": "2023-07-30T21:56:01.994992Z",
     "shell.execute_reply": "2023-07-30T21:56:01.993378Z"
    },
    "papermill": {
     "duration": 0.192371,
     "end_time": "2023-07-30T21:56:01.997818",
     "exception": false,
     "start_time": "2023-07-30T21:56:01.805447",
     "status": "completed"
    },
    "tags": []
   },
   "outputs": [
    {
     "name": "stdout",
     "output_type": "stream",
     "text": [
      "converted\n",
      "False    573258\n",
      "True      14843\n",
      "Name: user_id, dtype: int64\n"
     ]
    }
   ],
   "source": [
    "# Calculating how many people was converted and who was not \n",
    "group_converted = marketing.groupby('converted').count()['user_id']\n",
    "print(group_converted)"
   ]
  },
  {
   "cell_type": "code",
   "execution_count": 13,
   "id": "26b50070",
   "metadata": {
    "execution": {
     "iopub.execute_input": "2023-07-30T21:56:02.018559Z",
     "iopub.status.busy": "2023-07-30T21:56:02.018162Z",
     "iopub.status.idle": "2023-07-30T21:56:02.198863Z",
     "shell.execute_reply": "2023-07-30T21:56:02.198014Z"
    },
    "papermill": {
     "duration": 0.193199,
     "end_time": "2023-07-30T21:56:02.200877",
     "exception": false,
     "start_time": "2023-07-30T21:56:02.007678",
     "status": "completed"
    },
    "tags": []
   },
   "outputs": [
    {
     "data": {
      "image/png": "[encoded data removed]",
      "text/plain": [
       "<Figure size 640x480 with 1 Axes>"
      ]
     },
     "metadata": {},
     "output_type": "display_data"
    }
   ],
   "source": [
    "# Plotting counting people converted and who are not\n",
    "group_converted.plot(kind = 'bar')\n",
    "plt.title('Number of people Converted and who are not')\n",
    "plt.xlabel('Converted')\n",
    "plt.ylabel('Number of people')\n",
    "plt.show()"
   ]
  },
  {
   "cell_type": "code",
   "execution_count": 14,
   "id": "f6bee4ec",
   "metadata": {
    "execution": {
     "iopub.execute_input": "2023-07-30T21:56:02.219658Z",
     "iopub.status.busy": "2023-07-30T21:56:02.219251Z",
     "iopub.status.idle": "2023-07-30T21:56:02.247935Z",
     "shell.execute_reply": "2023-07-30T21:56:02.247036Z"
    },
    "papermill": {
     "duration": 0.040522,
     "end_time": "2023-07-30T21:56:02.250125",
     "exception": false,
     "start_time": "2023-07-30T21:56:02.209603",
     "status": "completed"
    },
    "tags": []
   },
   "outputs": [
    {
     "name": "stdout",
     "output_type": "stream",
     "text": [
      "Conversion rate is: 2.52 %\n"
     ]
    }
   ],
   "source": [
    "# Calculating the conversion rate \n",
    "new_subcribers = marketing[marketing['converted']==True]['user_id'].nunique()\n",
    "total = marketing['user_id'].nunique()\n",
    "\n",
    "\n",
    "# Conversion rate\n",
    "conversion_rate = new_subcribers / total\n",
    "print('Conversion rate is:', round(conversion_rate*100,2),'%')"
   ]
  },
  {
   "cell_type": "markdown",
   "id": "387d85c4",
   "metadata": {
    "papermill": {
     "duration": 0.008128,
     "end_time": "2023-07-30T21:56:02.267257",
     "exception": false,
     "start_time": "2023-07-30T21:56:02.259129",
     "status": "completed"
    },
    "tags": []
   },
   "source": [
    "Previous conversion rate doesn't say if the ads actually worked. So, let's calculate the conversion rate by each test group. "
   ]
  },
  {
   "cell_type": "code",
   "execution_count": 15,
   "id": "16d8588c",
   "metadata": {
    "execution": {
     "iopub.execute_input": "2023-07-30T21:56:02.286025Z",
     "iopub.status.busy": "2023-07-30T21:56:02.285657Z",
     "iopub.status.idle": "2023-07-30T21:56:02.375736Z",
     "shell.execute_reply": "2023-07-30T21:56:02.374328Z"
    },
    "papermill": {
     "duration": 0.101849,
     "end_time": "2023-07-30T21:56:02.377691",
     "exception": false,
     "start_time": "2023-07-30T21:56:02.275842",
     "status": "completed"
    },
    "tags": []
   },
   "outputs": [
    {
     "name": "stdout",
     "output_type": "stream",
     "text": [
      "test_group\n",
      "ad     2.55\n",
      "psa    1.79\n",
      "Name: user_id, dtype: float64 %\n"
     ]
    }
   ],
   "source": [
    "# Number of people by each test group \n",
    "p_test_group = marketing.groupby('test_group')['user_id'].nunique()\n",
    "\n",
    "# Number of people converted by each test group\n",
    "new_subscribers_by_tg = marketing[marketing['converted']==True].groupby(['test_group'])['user_id'].nunique()\n",
    "\n",
    "# Convertion rate by test group \n",
    "convertion_rate_by_tg = new_subscribers_by_tg / p_test_group \n",
    "print(round(convertion_rate_by_tg * 100, 2),'%')"
   ]
  },
  {
   "cell_type": "code",
   "execution_count": 16,
   "id": "944b0f50",
   "metadata": {
    "execution": {
     "iopub.execute_input": "2023-07-30T21:56:02.414550Z",
     "iopub.status.busy": "2023-07-30T21:56:02.413661Z",
     "iopub.status.idle": "2023-07-30T21:56:02.519673Z",
     "shell.execute_reply": "2023-07-30T21:56:02.518738Z"
    },
    "papermill": {
     "duration": 0.117467,
     "end_time": "2023-07-30T21:56:02.521381",
     "exception": false,
     "start_time": "2023-07-30T21:56:02.403914",
     "status": "completed"
    },
    "tags": []
   },
   "outputs": [
    {
     "name": "stdout",
     "output_type": "stream",
     "text": [
      "most_ads_day\n",
      "Friday       92608\n",
      "Monday       87073\n",
      "Saturday     81660\n",
      "Sunday       85391\n",
      "Thursday     82982\n",
      "Tuesday      77479\n",
      "Wednesday    80908\n",
      "Name: user_id, dtype: int64\n"
     ]
    }
   ],
   "source": [
    "# Most ads saw per day \n",
    "ads_day = marketing.groupby(['most_ads_day'])['user_id'].nunique()\n",
    "print(ads_day)"
   ]
  },
  {
   "cell_type": "code",
   "execution_count": 17,
   "id": "972052d7",
   "metadata": {
    "execution": {
     "iopub.execute_input": "2023-07-30T21:56:02.540635Z",
     "iopub.status.busy": "2023-07-30T21:56:02.539600Z",
     "iopub.status.idle": "2023-07-30T21:56:02.729193Z",
     "shell.execute_reply": "2023-07-30T21:56:02.728055Z"
    },
    "papermill": {
     "duration": 0.201182,
     "end_time": "2023-07-30T21:56:02.731259",
     "exception": false,
     "start_time": "2023-07-30T21:56:02.530077",
     "status": "completed"
    },
    "tags": []
   },
   "outputs": [
    {
     "data": {
      "image/png": "[encoded data removed]",
      "text/plain": [
       "<Figure size 640x480 with 1 Axes>"
      ]
     },
     "metadata": {},
     "output_type": "display_data"
    },
    {
     "data": {
      "text/plain": [
       "<Figure size 8x6 with 0 Axes>"
      ]
     },
     "metadata": {},
     "output_type": "display_data"
    }
   ],
   "source": [
    "# Plotting number of views by day \n",
    "ads_day.plot(kind='bar')\n",
    "plt.title('Counting value per day')\n",
    "plt.style.use('_classic_test_patch')\n",
    "x = [0,1,2,3,4,5,6]\n",
    "day_order = [\"Monday\", \"Tuesday\", \"Wednesday\", \"Thursday\", \"Friday\", \"Saturday\", \"Sunday\"]\n",
    "plt.xticks(x,day_order)\n",
    "plt.xlabel('Day')\n",
    "plt.ylabel('Count')\n",
    "plt.figure(figsize=(.08,.06))\n",
    "plt.show()"
   ]
  },
  {
   "cell_type": "code",
   "execution_count": 18,
   "id": "c7752d45",
   "metadata": {
    "execution": {
     "iopub.execute_input": "2023-07-30T21:56:02.752097Z",
     "iopub.status.busy": "2023-07-30T21:56:02.751564Z",
     "iopub.status.idle": "2023-07-30T21:56:02.828341Z",
     "shell.execute_reply": "2023-07-30T21:56:02.826855Z"
    },
    "papermill": {
     "duration": 0.08956,
     "end_time": "2023-07-30T21:56:02.830266",
     "exception": false,
     "start_time": "2023-07-30T21:56:02.740706",
     "status": "completed"
    },
    "tags": []
   },
   "outputs": [
    {
     "name": "stdout",
     "output_type": "stream",
     "text": [
      "most_ads_hour\n",
      "0      5536\n",
      "1      4802\n",
      "2      5333\n",
      "3      2679\n",
      "4       722\n",
      "5       765\n",
      "6      2068\n",
      "7      6405\n",
      "8     17627\n",
      "9     31004\n",
      "10    38939\n",
      "11    46210\n",
      "12    47298\n",
      "13    47655\n",
      "14    45648\n",
      "15    44683\n",
      "16    37567\n",
      "17    34988\n",
      "18    32323\n",
      "19    30352\n",
      "20    28923\n",
      "21    29976\n",
      "22    26432\n",
      "23    20166\n",
      "Name: user_id, dtype: int64\n"
     ]
    }
   ],
   "source": [
    "# Calculating the ads viewed per hour \n",
    "ads_per_hour = marketing.groupby(['most_ads_hour'])['user_id'].nunique()\n",
    "print(ads_per_hour)"
   ]
  },
  {
   "cell_type": "code",
   "execution_count": 19,
   "id": "cd193fc7",
   "metadata": {
    "execution": {
     "iopub.execute_input": "2023-07-30T21:56:02.850246Z",
     "iopub.status.busy": "2023-07-30T21:56:02.849926Z",
     "iopub.status.idle": "2023-07-30T21:56:03.419820Z",
     "shell.execute_reply": "2023-07-30T21:56:03.418605Z"
    },
    "papermill": {
     "duration": 0.581872,
     "end_time": "2023-07-30T21:56:03.421540",
     "exception": false,
     "start_time": "2023-07-30T21:56:02.839668",
     "status": "completed"
    },
    "tags": []
   },
   "outputs": [
    {
     "name": "stderr",
     "output_type": "stream",
     "text": [
      "/opt/conda/lib/python3.10/site-packages/seaborn/axisgrid.py:118: UserWarning: The figure layout has changed to tight\n",
      "  self._figure.tight_layout(*args, **kwargs)\n"
     ]
    },
    {
     "data": {
      "image/png": "[encoded data removed]",
      "text/plain": [
       "<Figure size 500x500 with 1 Axes>"
      ]
     },
     "metadata": {},
     "output_type": "display_data"
    }
   ],
   "source": [
    "# Plotting the ads views per hour \n",
    "sns.displot(data = marketing, x='most_ads_hour')\n",
    "plt.title('Ads per day')\n",
    "plt.show()"
   ]
  },
  {
   "cell_type": "code",
   "execution_count": 20,
   "id": "09042071",
   "metadata": {
    "execution": {
     "iopub.execute_input": "2023-07-30T21:56:03.461644Z",
     "iopub.status.busy": "2023-07-30T21:56:03.461254Z",
     "iopub.status.idle": "2023-07-30T21:56:03.518217Z",
     "shell.execute_reply": "2023-07-30T21:56:03.517366Z"
    },
    "papermill": {
     "duration": 0.069895,
     "end_time": "2023-07-30T21:56:03.520080",
     "exception": false,
     "start_time": "2023-07-30T21:56:03.450185",
     "status": "completed"
    },
    "tags": []
   },
   "outputs": [
    {
     "data": {
      "text/html": [
       "<div>\n",
       "<style scoped>\n",
       "    .dataframe tbody tr th:only-of-type {\n",
       "        vertical-align: middle;\n",
       "    }\n",
       "\n",
       "    .dataframe tbody tr th {\n",
       "        vertical-align: top;\n",
       "    }\n",
       "\n",
       "    .dataframe thead th {\n",
       "        text-align: right;\n",
       "    }\n",
       "</style>\n",
       "<table border=\"1\" class=\"dataframe\">\n",
       "  <thead>\n",
       "    <tr style=\"text-align: right;\">\n",
       "      <th></th>\n",
       "      <th>most_ads_day</th>\n",
       "      <th>converted</th>\n",
       "    </tr>\n",
       "  </thead>\n",
       "  <tbody>\n",
       "    <tr>\n",
       "      <th>0</th>\n",
       "      <td>Friday</td>\n",
       "      <td>0.022212</td>\n",
       "    </tr>\n",
       "    <tr>\n",
       "      <th>1</th>\n",
       "      <td>Monday</td>\n",
       "      <td>0.032812</td>\n",
       "    </tr>\n",
       "    <tr>\n",
       "      <th>2</th>\n",
       "      <td>Saturday</td>\n",
       "      <td>0.021051</td>\n",
       "    </tr>\n",
       "    <tr>\n",
       "      <th>3</th>\n",
       "      <td>Sunday</td>\n",
       "      <td>0.024476</td>\n",
       "    </tr>\n",
       "    <tr>\n",
       "      <th>4</th>\n",
       "      <td>Thursday</td>\n",
       "      <td>0.021571</td>\n",
       "    </tr>\n",
       "    <tr>\n",
       "      <th>5</th>\n",
       "      <td>Tuesday</td>\n",
       "      <td>0.029840</td>\n",
       "    </tr>\n",
       "    <tr>\n",
       "      <th>6</th>\n",
       "      <td>Wednesday</td>\n",
       "      <td>0.024942</td>\n",
       "    </tr>\n",
       "  </tbody>\n",
       "</table>\n",
       "</div>"
      ],
      "text/plain": [
       "  most_ads_day  converted\n",
       "0       Friday   0.022212\n",
       "1       Monday   0.032812\n",
       "2     Saturday   0.021051\n",
       "3       Sunday   0.024476\n",
       "4     Thursday   0.021571\n",
       "5      Tuesday   0.029840\n",
       "6    Wednesday   0.024942"
      ]
     },
     "execution_count": 20,
     "metadata": {},
     "output_type": "execute_result"
    }
   ],
   "source": [
    "#Conversion rate by day \n",
    "conversion_rate_day = pd.DataFrame(marketing.groupby('most_ads_day')['converted'].mean())\n",
    "conversion_rate_day.reset_index(inplace = True)\n",
    "conversion_rate_day"
   ]
  },
  {
   "cell_type": "code",
   "execution_count": 21,
   "id": "d95ea553",
   "metadata": {
    "execution": {
     "iopub.execute_input": "2023-07-30T21:56:03.540996Z",
     "iopub.status.busy": "2023-07-30T21:56:03.540687Z",
     "iopub.status.idle": "2023-07-30T21:56:03.753860Z",
     "shell.execute_reply": "2023-07-30T21:56:03.751826Z"
    },
    "papermill": {
     "duration": 0.229175,
     "end_time": "2023-07-30T21:56:03.759096",
     "exception": false,
     "start_time": "2023-07-30T21:56:03.529921",
     "status": "completed"
    },
    "tags": []
   },
   "outputs": [
    {
     "data": {
      "image/png": "[encoded data removed]",
      "text/plain": [
       "<Figure size 640x480 with 1 Axes>"
      ]
     },
     "metadata": {},
     "output_type": "display_data"
    }
   ],
   "source": [
    "# Plotting conversion rate by day\n",
    "conversion_rate_day.plot(kind='bar')\n",
    "x = [0,1,2,3,4,5,6]\n",
    "day_order = [\"Monday\", \"Tuesday\", \"Wednesday\", \"Thursday\", \"Friday\", \"Saturday\", \"Sunday\"]\n",
    "plt.xticks(x,day_order)\n",
    "plt.style.use('_classic_test_patch')\n",
    "plt.title('Conversion Rate by Day')\n",
    "plt.legend().set_visible(False)\n",
    "plt.xlabel('Day', size=14)\n",
    "plt.axhline(marketing['converted'].mean(), color = 'r', linestyle = '--', label='average')\n",
    "plt.show()"
   ]
  },
  {
   "cell_type": "code",
   "execution_count": 22,
   "id": "8c27c419",
   "metadata": {
    "execution": {
     "iopub.execute_input": "2023-07-30T21:56:03.863053Z",
     "iopub.status.busy": "2023-07-30T21:56:03.862500Z",
     "iopub.status.idle": "2023-07-30T21:56:03.973045Z",
     "shell.execute_reply": "2023-07-30T21:56:03.971910Z"
    },
    "papermill": {
     "duration": 0.124943,
     "end_time": "2023-07-30T21:56:03.974899",
     "exception": false,
     "start_time": "2023-07-30T21:56:03.849956",
     "status": "completed"
    },
    "tags": []
   },
   "outputs": [
    {
     "data": {
      "text/plain": [
       "Ttest_indResult(statistic=7.37040597428566, pvalue=1.7033052627831264e-13)"
      ]
     },
     "execution_count": 22,
     "metadata": {},
     "output_type": "execute_result"
    }
   ],
   "source": [
    "# Calculating t-statistics and p-value\n",
    "ttest = ttest_ind(marketing[marketing['test_group'] == 'ad']['converted'], marketing[marketing['test_group'] == 'psa']['converted'])\n",
    "ttest"
   ]
  }
 ],
 "metadata": {
  "kernelspec": {
   "display_name": "Python 3 (ipykernel)",
   "language": "python",
   "name": "python3"
  },
  "language_info": {
   "codemirror_mode": {
    "name": "ipython",
    "version": 3
   },
   "file_extension": ".py",
   "mimetype": "text/x-python",
   "name": "python",
   "nbconvert_exporter": "python",
   "pygments_lexer": "ipython3",
   "version": "3.10.6"
  },
  "papermill": {
   "default_parameters": {},
   "duration": 14.324511,
   "end_time": "2023-07-30T21:56:04.968003",
   "environment_variables": {},
   "exception": null,
   "input_path": "__notebook__.ipynb",
   "output_path": "__notebook__.ipynb",
   "parameters": {},
   "start_time": "2023-07-30T21:55:50.643492",
   "version": "2.4.0"
  }
 },
 "nbformat": 4,
 "nbformat_minor": 5
}
